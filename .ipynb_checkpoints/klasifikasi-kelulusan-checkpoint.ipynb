{
 "cells": [
  {
   "cell_type": "code",
   "execution_count": 1,
   "metadata": {},
   "outputs": [
    {
     "name": "stdout",
     "output_type": "stream",
     "text": [
      "Versi scikit-learn yang terinstal: 1.3.2\n"
     ]
    }
   ],
   "source": [
    "import sklearn\n",
    "\n",
    "print(\"Versi scikit-learn yang terinstal:\", sklearn.__version__)"
   ]
  },
  {
   "cell_type": "code",
   "execution_count": 1,
   "metadata": {
    "_cell_guid": "b1076dfc-b9ad-4769-8c92-a6c4dae69d19",
    "_uuid": "8f2839f25d086af736a60e9eeb907d3b93b6e0e5",
    "papermill": {
     "duration": 1.393795,
     "end_time": "2020-11-24T09:35:24.022927",
     "exception": false,
     "start_time": "2020-11-24T09:35:22.629132",
     "status": "completed"
    },
    "tags": []
   },
   "outputs": [],
   "source": [
    "import numpy as np # linear algebra\n",
    "import pandas as pd # data processing, CSV file I/O (e.g. pd.read_csv)\n",
    "from sklearn.model_selection import train_test_split\n",
    "from sklearn.model_selection import KFold\n",
    "from sklearn.model_selection import cross_val_score\n",
    "from sklearn.metrics import classification_report\n",
    "from sklearn.metrics import confusion_matrix\n",
    "from sklearn.metrics import accuracy_score\n",
    "from sklearn.linear_model import LogisticRegression\n",
    "from sklearn.tree import DecisionTreeClassifier\n",
    "from sklearn.neighbors import KNeighborsClassifier\n",
    "from sklearn.ensemble import RandomForestClassifier\n",
    "from sklearn.discriminant_analysis import LinearDiscriminantAnalysis\n",
    "from sklearn.naive_bayes import GaussianNB\n",
    "import os\n",
    "import warnings\n",
    "# warnings.filterwarnings(\"ignore\", category=FutureWarning, module='sklearn')\n",
    "warnings.filterwarnings(\"ignore\")"
   ]
  },
  {
   "cell_type": "code",
   "execution_count": 2,
   "metadata": {
    "_cell_guid": "79c7e3d0-c299-4dcb-8224-4455121ee9b0",
    "_uuid": "d629ff2d2480ee46fbb7e2d37f6b5fab8052498a",
    "papermill": {
     "duration": 0.04067,
     "end_time": "2020-11-24T09:35:24.083327",
     "exception": false,
     "start_time": "2020-11-24T09:35:24.042657",
     "status": "completed"
    },
    "tags": []
   },
   "outputs": [],
   "source": [
    "dataset = pd.read_csv('./data_lulus_tepat_waktu.csv')"
   ]
  },
  {
   "cell_type": "code",
   "execution_count": 3,
   "metadata": {
    "papermill": {
     "duration": 0.0494,
     "end_time": "2020-11-24T09:35:24.151130",
     "exception": false,
     "start_time": "2020-11-24T09:35:24.101730",
     "status": "completed"
    },
    "tags": []
   },
   "outputs": [
    {
     "data": {
      "text/html": [
       "<div>\n",
       "<style scoped>\n",
       "    .dataframe tbody tr th:only-of-type {\n",
       "        vertical-align: middle;\n",
       "    }\n",
       "\n",
       "    .dataframe tbody tr th {\n",
       "        vertical-align: top;\n",
       "    }\n",
       "\n",
       "    .dataframe thead th {\n",
       "        text-align: right;\n",
       "    }\n",
       "</style>\n",
       "<table border=\"1\" class=\"dataframe\">\n",
       "  <thead>\n",
       "    <tr style=\"text-align: right;\">\n",
       "      <th></th>\n",
       "      <th>ip1</th>\n",
       "      <th>ip2</th>\n",
       "      <th>ip3</th>\n",
       "      <th>ip4</th>\n",
       "      <th>tepat</th>\n",
       "    </tr>\n",
       "  </thead>\n",
       "  <tbody>\n",
       "    <tr>\n",
       "      <th>0</th>\n",
       "      <td>2.30</td>\n",
       "      <td>1.97</td>\n",
       "      <td>1.80</td>\n",
       "      <td>1.56</td>\n",
       "      <td>Tidak</td>\n",
       "    </tr>\n",
       "    <tr>\n",
       "      <th>1</th>\n",
       "      <td>1.81</td>\n",
       "      <td>1.68</td>\n",
       "      <td>1.57</td>\n",
       "      <td>1.86</td>\n",
       "      <td>Tidak</td>\n",
       "    </tr>\n",
       "    <tr>\n",
       "      <th>2</th>\n",
       "      <td>3.07</td>\n",
       "      <td>3.00</td>\n",
       "      <td>2.75</td>\n",
       "      <td>3.21</td>\n",
       "      <td>Tidak</td>\n",
       "    </tr>\n",
       "    <tr>\n",
       "      <th>3</th>\n",
       "      <td>2.71</td>\n",
       "      <td>2.33</td>\n",
       "      <td>2.61</td>\n",
       "      <td>1.98</td>\n",
       "      <td>Tidak</td>\n",
       "    </tr>\n",
       "    <tr>\n",
       "      <th>4</th>\n",
       "      <td>3.17</td>\n",
       "      <td>3.02</td>\n",
       "      <td>3.28</td>\n",
       "      <td>2.96</td>\n",
       "      <td>Tidak</td>\n",
       "    </tr>\n",
       "  </tbody>\n",
       "</table>\n",
       "</div>"
      ],
      "text/plain": [
       "    ip1   ip2   ip3   ip4  tepat\n",
       "0  2.30  1.97  1.80  1.56  Tidak\n",
       "1  1.81  1.68  1.57  1.86  Tidak\n",
       "2  3.07  3.00  2.75  3.21  Tidak\n",
       "3  2.71  2.33  2.61  1.98  Tidak\n",
       "4  3.17  3.02  3.28  2.96  Tidak"
      ]
     },
     "execution_count": 3,
     "metadata": {},
     "output_type": "execute_result"
    }
   ],
   "source": [
    "dataset.head()"
   ]
  },
  {
   "cell_type": "markdown",
   "metadata": {},
   "source": [
    "# EXPLORATORY DATA ANALYSIS (EDA) AND PREPROCESS DATA"
   ]
  },
  {
   "cell_type": "code",
   "execution_count": 4,
   "metadata": {
    "papermill": {
     "duration": 0.028924,
     "end_time": "2020-11-24T09:35:24.201705",
     "exception": false,
     "start_time": "2020-11-24T09:35:24.172781",
     "status": "completed"
    },
    "tags": []
   },
   "outputs": [
    {
     "data": {
      "text/plain": [
       "(1687, 5)"
      ]
     },
     "execution_count": 4,
     "metadata": {},
     "output_type": "execute_result"
    }
   ],
   "source": [
    "dataset.shape"
   ]
  },
  {
   "cell_type": "code",
   "execution_count": 5,
   "metadata": {
    "papermill": {
     "duration": 0.037728,
     "end_time": "2020-11-24T09:35:24.259091",
     "exception": false,
     "start_time": "2020-11-24T09:35:24.221363",
     "status": "completed"
    },
    "tags": []
   },
   "outputs": [
    {
     "name": "stdout",
     "output_type": "stream",
     "text": [
      "<class 'pandas.core.frame.DataFrame'>\n",
      "RangeIndex: 1687 entries, 0 to 1686\n",
      "Data columns (total 5 columns):\n",
      " #   Column  Non-Null Count  Dtype  \n",
      "---  ------  --------------  -----  \n",
      " 0   ip1     1687 non-null   float64\n",
      " 1   ip2     1687 non-null   float64\n",
      " 2   ip3     1687 non-null   float64\n",
      " 3   ip4     1687 non-null   float64\n",
      " 4   tepat   1687 non-null   object \n",
      "dtypes: float64(4), object(1)\n",
      "memory usage: 66.0+ KB\n"
     ]
    }
   ],
   "source": [
    "dataset.info()"
   ]
  },
  {
   "cell_type": "code",
   "execution_count": 6,
   "metadata": {
    "papermill": {
     "duration": 0.03369,
     "end_time": "2020-11-24T09:35:24.315967",
     "exception": false,
     "start_time": "2020-11-24T09:35:24.282277",
     "status": "completed"
    },
    "tags": []
   },
   "outputs": [
    {
     "data": {
      "text/plain": [
       "False"
      ]
     },
     "execution_count": 6,
     "metadata": {},
     "output_type": "execute_result"
    }
   ],
   "source": [
    "dataset.isnull().values.any()"
   ]
  },
  {
   "cell_type": "code",
   "execution_count": 7,
   "metadata": {
    "papermill": {
     "duration": 0.031515,
     "end_time": "2020-11-24T09:35:24.372188",
     "exception": false,
     "start_time": "2020-11-24T09:35:24.340673",
     "status": "completed"
    },
    "tags": []
   },
   "outputs": [],
   "source": [
    "ket = {\"Ya\" : 0, \"Tidak\" : 1}\n",
    "dataset[\"tepat\"] = dataset[\"tepat\"].map(ket)"
   ]
  },
  {
   "cell_type": "code",
   "execution_count": 8,
   "metadata": {
    "papermill": {
     "duration": 0.033471,
     "end_time": "2020-11-24T09:35:24.426821",
     "exception": false,
     "start_time": "2020-11-24T09:35:24.393350",
     "status": "completed"
    },
    "tags": []
   },
   "outputs": [
    {
     "data": {
      "text/plain": [
       "tepat\n",
       "0    1552\n",
       "1     135\n",
       "Name: count, dtype: int64"
      ]
     },
     "execution_count": 8,
     "metadata": {},
     "output_type": "execute_result"
    }
   ],
   "source": [
    "dataset['tepat'].value_counts()"
   ]
  },
  {
   "cell_type": "code",
   "execution_count": 9,
   "metadata": {
    "papermill": {
     "duration": 0.035301,
     "end_time": "2020-11-24T09:35:24.484008",
     "exception": false,
     "start_time": "2020-11-24T09:35:24.448707",
     "status": "completed"
    },
    "tags": []
   },
   "outputs": [
    {
     "name": "stdout",
     "output_type": "stream",
     "text": [
      "Ya 92.0 % of the dataset\n",
      "Tidak 8.0 % of the dataset\n"
     ]
    }
   ],
   "source": [
    "print('Ya', round(dataset['tepat'].value_counts()[0]/len(dataset) * 100,2), '% of the dataset')\n",
    "print('Tidak', round(dataset['tepat'].value_counts()[1]/len(dataset) * 100,2), '% of the dataset')"
   ]
  },
  {
   "cell_type": "code",
   "execution_count": 10,
   "metadata": {
    "papermill": {
     "duration": 0.374782,
     "end_time": "2020-11-24T09:35:24.881122",
     "exception": false,
     "start_time": "2020-11-24T09:35:24.506340",
     "status": "completed"
    },
    "tags": []
   },
   "outputs": [
    {
     "data": {
      "text/plain": [
       "Text(0.5, 1.0, 'Class Distributions \\n (0: YA || 1: Tidak)')"
      ]
     },
     "execution_count": 10,
     "metadata": {},
     "output_type": "execute_result"
    },
    {
     "data": {
      "image/png": "[encoded data removed]",
      "text/plain": [
       "<Figure size 640x480 with 1 Axes>"
      ]
     },
     "metadata": {},
     "output_type": "display_data"
    }
   ],
   "source": [
    "import matplotlib.pyplot as plt\n",
    "import seaborn as sns\n",
    "\n",
    "colors = [\"#0101DF\", \"#DF0101\"]\n",
    "sns.countplot(x='tepat', data=dataset, palette=colors)\n",
    "plt.title('Class Distributions \\n (0: YA || 1: Tidak)', fontsize=14)"
   ]
  },
  {
   "cell_type": "markdown",
   "metadata": {
    "papermill": {
     "duration": 0.023294,
     "end_time": "2020-11-24T09:35:24.929984",
     "exception": false,
     "start_time": "2020-11-24T09:35:24.906690",
     "status": "completed"
    },
    "tags": []
   },
   "source": [
    "# Dataset tidak balance, jomplang perbedaannya.\n",
    "\n",
    "kita Resampling datanya. Resampling ada 2 :\n",
    "\n",
    "\n",
    "* Random Oversampling: Randomly duplicate examples in the minority class.\n",
    "* Random Undersampling: Randomly delete examples in the majority class.\n",
    "\n",
    "disini kita menggunakan random over sampling"
   ]
  },
  {
   "cell_type": "code",
   "execution_count": 11,
   "metadata": {
    "papermill": {
     "duration": 0.060231,
     "end_time": "2020-11-24T09:35:25.013960",
     "exception": false,
     "start_time": "2020-11-24T09:35:24.953729",
     "status": "completed"
    },
    "tags": []
   },
   "outputs": [],
   "source": [
    "# Class count\n",
    "count_class_0, count_class_1 = dataset.tepat.value_counts()\n",
    "\n",
    "# Divide by class\n",
    "df_class_0 = dataset[dataset['tepat'] == 0]\n",
    "df_class_1 = dataset[dataset['tepat'] == 1]"
   ]
  },
  {
   "cell_type": "code",
   "execution_count": 12,
   "metadata": {
    "papermill": {
     "duration": 0.211397,
     "end_time": "2020-11-24T09:35:25.249446",
     "exception": false,
     "start_time": "2020-11-24T09:35:25.038049",
     "status": "completed"
    },
    "tags": []
   },
   "outputs": [
    {
     "name": "stdout",
     "output_type": "stream",
     "text": [
      "Random over-sampling:\n",
      "tepat\n",
      "0    1552\n",
      "1    1552\n",
      "Name: count, dtype: int64\n"
     ]
    },
    {
     "data": {
      "image/png": "[encoded data removed]",
      "text/plain": [
       "<Figure size 640x480 with 1 Axes>"
      ]
     },
     "metadata": {},
     "output_type": "display_data"
    }
   ],
   "source": [
    "df_class_1_over = df_class_1.sample(count_class_0, replace=True)\n",
    "df_test_over = pd.concat([df_class_0, df_class_1_over], axis=0)\n",
    "\n",
    "print('Random over-sampling:')\n",
    "print(df_test_over.tepat.value_counts())\n",
    "\n",
    "df_test_over.tepat.value_counts().plot(kind='bar', title='Count (tepat)');"
   ]
  },
  {
   "cell_type": "code",
   "execution_count": 13,
   "metadata": {
    "papermill": {
     "duration": 0.042101,
     "end_time": "2020-11-24T09:35:25.320097",
     "exception": false,
     "start_time": "2020-11-24T09:35:25.277996",
     "status": "completed"
    },
    "tags": []
   },
   "outputs": [
    {
     "data": {
      "text/plain": [
       "tepat\n",
       "0    1552\n",
       "1    1552\n",
       "Name: count, dtype: int64"
      ]
     },
     "execution_count": 13,
     "metadata": {},
     "output_type": "execute_result"
    }
   ],
   "source": [
    "df_test_over.tepat.value_counts()"
   ]
  },
  {
   "cell_type": "code",
   "execution_count": 14,
   "metadata": {
    "papermill": {
     "duration": 0.042483,
     "end_time": "2020-11-24T09:35:25.442719",
     "exception": false,
     "start_time": "2020-11-24T09:35:25.400236",
     "status": "completed"
    },
    "tags": []
   },
   "outputs": [],
   "source": [
    "x = df_test_over.iloc[:, :-1].values\n",
    "y = df_test_over.iloc[:, -1].values"
   ]
  },
  {
   "cell_type": "markdown",
   "metadata": {},
   "source": [
    "# **TARGET PRESENTASI SELANJUTNYA ADALAH MEMBANGUN MODEL SEPERTI PROSES-PROSES DIBAWAH INI SAMPAI PALING BAWAH**"
   ]
  },
  {
   "cell_type": "markdown",
   "metadata": {},
   "source": [
    "# Membangun Model dan Melakukan testing overfitting pada model. Overfitting dilakukan dengan membandingkan akurasi training dan akurasi testing "
   ]
  },
  {
   "cell_type": "code",
   "execution_count": 15,
   "metadata": {
    "papermill": {
     "duration": 0.048204,
     "end_time": "2020-11-24T09:35:25.521481",
     "exception": false,
     "start_time": "2020-11-24T09:35:25.473277",
     "status": "completed"
    },
    "tags": []
   },
   "outputs": [],
   "source": [
    "# Splitting data menjadi Training:Testing dengan perbandingan 80:20\n",
    "\n",
    "from sklearn.model_selection import train_test_split\n",
    "x_train, x_test, y_train, y_test=train_test_split(x, y, test_size=0.2, random_state=42)"
   ]
  },
  {
   "cell_type": "code",
   "execution_count": 16,
   "metadata": {
    "papermill": {
     "duration": 1.193866,
     "end_time": "2020-11-24T09:35:26.744957",
     "exception": false,
     "start_time": "2020-11-24T09:35:25.551091",
     "status": "completed"
    },
    "tags": []
   },
   "outputs": [
    {
     "name": "stdout",
     "output_type": "stream",
     "text": [
      "LR: 0.649213 (0.003766)\n",
      "LDA: 0.638746 (0.006701)\n",
      "KNN: 0.799024 (0.022232)\n",
      "DT: 0.917030 (0.014532)\n",
      "NB: 0.616598 (0.013539)\n",
      "RF: 0.937169 (0.009691)\n"
     ]
    }
   ],
   "source": [
    "# Membangun Model dan Melakukan cek akurasi terhadap Data Trainingnya\n",
    "\n",
    "# Definisi jumlah pohon (num_trees) dan nilai seed\n",
    "num_trees = 100\n",
    "seed = 42\n",
    "\n",
    "# Menambahkan model ke dalam list\n",
    "models = []\n",
    "models.append(('LR', LogisticRegression()))\n",
    "models.append(('LDA', LinearDiscriminantAnalysis()))\n",
    "models.append(('KNN', KNeighborsClassifier()))\n",
    "models.append(('DT', DecisionTreeClassifier()))\n",
    "models.append(('NB', GaussianNB()))\n",
    "models.append(('RF', RandomForestClassifier(n_estimators=num_trees, random_state=seed)))\n",
    "\n",
    "# Mengevaluasi setiap model dengan data Training untuk melihat yang tertinggi\n",
    "results = []\n",
    "names = []\n",
    "for name, model in models:\n",
    "    kfold = KFold(n_splits=2, shuffle=True, random_state=seed)  # Mengubah shuffle menjadi True\n",
    "    cv_results = cross_val_score(model, x_train, y_train, cv=kfold, scoring='accuracy')\n",
    "    results.append(cv_results)\n",
    "    names.append(name)\n",
    "    msg = \"%s: %f (%f)\" % (name, cv_results.mean(), cv_results.std())\n",
    "    print(msg)"
   ]
  },
  {
   "cell_type": "code",
   "execution_count": 17,
   "metadata": {},
   "outputs": [
    {
     "name": "stdout",
     "output_type": "stream",
     "text": [
      "LR: 0.6505636070853462\n",
      "LDA: 0.642512077294686\n",
      "KNN: 0.895330112721417\n",
      "DT: 0.9468599033816425\n",
      "NB: 0.6247987117552335\n",
      "RF: 0.9758454106280193\n"
     ]
    }
   ],
   "source": [
    "# Evaluasi Model dengan data Testing\n",
    "\n",
    "# Inisialisasi dictionary untuk menyimpan akurasi model\n",
    "test_results = {}\n",
    "\n",
    "'''\n",
    "Melatih dan menguji setiap model dengan data testing untuk melihat performa model dan dibandingkan dengan akurasi di training untuk\n",
    "mengengetahui apakah model ovefitting atau tidak.\n",
    "'''\n",
    "\n",
    "for name, model in models:\n",
    "    # Melatih model pada seluruh data pelatihan\n",
    "    model.fit(x_train, y_train)\n",
    "    \n",
    "    # Menguji model pada data uji\n",
    "    y_pred = model.predict(x_test)\n",
    "    \n",
    "    # Menghitung akurasi dan menyimpannya dalam dictionary\n",
    "    accuracy = accuracy_score(y_test, y_pred)\n",
    "    test_results[name] = accuracy\n",
    "    \n",
    "    # Menampilkan hasil\n",
    "    print(f\"{name}: {accuracy}\")"
   ]
  },
  {
   "cell_type": "markdown",
   "metadata": {},
   "source": [
    "# Dari hasil diatas data tidak mengalami ovefitting dan yang tertinggi adalah model Random Forest, diikut oleh DecisionTree"
   ]
  },
  {
   "cell_type": "markdown",
   "metadata": {
    "papermill": {
     "duration": 0.028971,
     "end_time": "2020-11-24T09:35:26.801869",
     "exception": false,
     "start_time": "2020-11-24T09:35:26.772898",
     "status": "completed"
    },
    "tags": []
   },
   "source": [
    "# **Random Forest (RF) memiliki akurasi paling besar, jadi dipilih sebagai model terbaik**"
   ]
  },
  {
   "cell_type": "code",
   "execution_count": 18,
   "metadata": {
    "papermill": {
     "duration": 0.508542,
     "end_time": "2020-11-24T09:35:27.338262",
     "exception": false,
     "start_time": "2020-11-24T09:35:26.829720",
     "status": "completed"
    },
    "tags": []
   },
   "outputs": [
    {
     "name": "stdout",
     "output_type": "stream",
     "text": [
      "0.9758454106280193\n",
      "[[312  15]\n",
      " [  0 294]]\n",
      "              precision    recall  f1-score   support\n",
      "\n",
      "           0       1.00      0.95      0.98       327\n",
      "           1       0.95      1.00      0.98       294\n",
      "\n",
      "    accuracy                           0.98       621\n",
      "   macro avg       0.98      0.98      0.98       621\n",
      "weighted avg       0.98      0.98      0.98       621\n",
      "\n"
     ]
    }
   ],
   "source": [
    "rf = RandomForestClassifier(n_estimators=num_trees, random_state=seed)\n",
    "rf.fit(x_train, y_train)\n",
    "predictions = rf.predict(x_test)\n",
    "\n",
    "print(accuracy_score(y_test, predictions))\n",
    "print(confusion_matrix(y_test, predictions))\n",
    "print(classification_report(y_test, predictions))"
   ]
  },
  {
   "cell_type": "markdown",
   "metadata": {
    "papermill": {
     "duration": 0.028577,
     "end_time": "2020-11-24T09:35:27.396461",
     "exception": false,
     "start_time": "2020-11-24T09:35:27.367884",
     "status": "completed"
    },
    "tags": []
   },
   "source": [
    "# Testing ketepatan model"
   ]
  },
  {
   "cell_type": "code",
   "execution_count": 19,
   "metadata": {
    "papermill": {
     "duration": 0.073071,
     "end_time": "2020-11-24T09:35:27.498274",
     "exception": false,
     "start_time": "2020-11-24T09:35:27.425203",
     "status": "completed"
    },
    "tags": []
   },
   "outputs": [
    {
     "name": "stdout",
     "output_type": "stream",
     "text": [
      "Prediksi : Tidak Tepat Waktu\n"
     ]
    }
   ],
   "source": [
    "# ip1 = 3.17\n",
    "# ip2 = 3.02\n",
    "# ip3 = 3.28\n",
    "# ip4 = 2.96\n",
    "\n",
    "prediction_rf = rf.predict([[3.17,3.02,3.28,2.96]])\n",
    "score1 = rf.score(x_test, y_test)\n",
    "\n",
    "if prediction_rf[0] == 0:\n",
    "    pred = \"Tepat Waktu\"\n",
    "else:\n",
    "    pred = \"Tidak Tepat Waktu\"\n",
    "print('Prediksi :',pred)"
   ]
  },
  {
   "cell_type": "code",
   "execution_count": 20,
   "metadata": {
    "papermill": {
     "duration": 0.072616,
     "end_time": "2020-11-24T09:35:27.600290",
     "exception": false,
     "start_time": "2020-11-24T09:35:27.527674",
     "status": "completed"
    },
    "tags": []
   },
   "outputs": [
    {
     "name": "stdout",
     "output_type": "stream",
     "text": [
      "Prediksi : Tepat Waktu\n"
     ]
    }
   ],
   "source": [
    "# ip1 = 3.07\n",
    "# ip2 = 3.04\n",
    "# ip3 = 3.39\n",
    "# ip4 = 3.55\n",
    "\n",
    "prediction_rf=rf.predict([[3.07,3.04,3.39,3.55]])\n",
    "score1 = rf.score(x_test, y_test)\n",
    "\n",
    "if prediction_rf[0] == 0:\n",
    "    pred = \"Tepat Waktu\"\n",
    "else:\n",
    "    pred = \"Tidak Tepat Waktu\"\n",
    "print('Prediksi :',pred)"
   ]
  },
  {
   "cell_type": "markdown",
   "metadata": {},
   "source": [
    "# Implementasi ke Website menggunakan Streamlit (berbasis python)"
   ]
  },
  {
   "cell_type": "markdown",
   "metadata": {},
   "source": [
    "# **Menyimpan Model Random Forest ke dalam bentuk File dengan extension (.pkl) dengan tujuan agar bisa digunakan didalam WEBSITE**"
   ]
  },
  {
   "cell_type": "code",
   "execution_count": 21,
   "metadata": {},
   "outputs": [
    {
     "name": "stdout",
     "output_type": "stream",
     "text": [
      "Model saved as random_forest_model.pkl\n",
      "\n",
      "Model ini yang nantinya akan kalian gunakan ke dalam website sebagai model prediksi\n"
     ]
    }
   ],
   "source": [
    "import pickle\n",
    "# ===============================================================================\n",
    "# Inisialisasi dan melatih model RandomForestClassifier\n",
    "\n",
    "rf = RandomForestClassifier(n_estimators=num_trees, random_state=seed)\n",
    "rf.fit(x_train, y_train)\n",
    "\n",
    "# ===============================================================================\n",
    "# Menyimpan model ke dalam file dengan ekstensi .pkl menggunakan library pickle\n",
    "# Model dengan Extensi .pkl ini yang nantinya akan digunakan didalam Website\n",
    "\n",
    "file_name = \"random_forest_model.pkl\" #memberi nama file sesuai yang kalian inginkan dan berikan extensionnya\n",
    "with open(file_name, 'wb') as file:\n",
    "    pickle.dump(rf, file)\n",
    "print(\"Model saved as\", file_name)\n",
    "\n",
    "print('\\nModel ini yang nantinya akan kalian gunakan ke dalam website sebagai model prediksi')\n",
    "# ==============================================================================="
   ]
  },
  {
   "cell_type": "markdown",
   "metadata": {},
   "source": [
    "# **Cara memanggil file .pkl yang sudah dibuat di WEBSITE jika ingin digunakan**"
   ]
  },
  {
   "cell_type": "code",
   "execution_count": 31,
   "metadata": {},
   "outputs": [
    {
     "name": "stdout",
     "output_type": "stream",
     "text": [
      "Prediksi : Tidak Tepat Waktu\n"
     ]
    }
   ],
   "source": [
    "# Cara memanggil file model yang sudah dibuat sebelumnya ke dalam code website\n",
    "'''\n",
    "1. Masukan file .pkl ke dalam satu folder di website\n",
    "2. Panggil alamat file (file path) beserta nama filenya seperti code dibawah (./random_forest_model.pkl)\n",
    "'''\n",
    "\n",
    "# ===============================================================================\n",
    "# Load Model (Cara Memanggil Model)\n",
    "\n",
    "with open(\"./random_forest_model.pkl\", 'rb') as file:\n",
    "    loaded_model = pickle.load(file)\n",
    "# ===============================================================================\n",
    "\n",
    "'''\n",
    "3.od Ce dibawah ini adalah cara melakukan prediksi, sama seperti jika anda memanggil prediksi di jupyter\n",
    "'''\n",
    "\n",
    "# ====================================================================\n",
    "# Menggunakan model yang dimuat yang sudah disimpan pada variabel 'loaded_model'\n",
    "# Sesuaikan dengan model prediksi kalian masing-masing\n",
    "\n",
    "predictions = loaded_model.predict([[2.30,1.97,1.80,1.01]])\n",
    "\n",
    "# Lakukan evaluasi model atau tindakan lain yang diperlukan\n",
    "if predictions[0] == 0:\n",
    "    pred = \"Tepat Waktu\"\n",
    "else:\n",
    "    pred = \"Tidak Tepat Waktu\"\n",
    "print('Prediksi :',pred)\n",
    "# ===================================================================="
   ]
  }
 ],
 "metadata": {
  "kernelspec": {
   "display_name": "Python 3 (ipykernel)",
   "language": "python",
   "name": "python3"
  },
  "language_info": {
   "codemirror_mode": {
    "name": "ipython",
    "version": 3
   },
   "file_extension": ".py",
   "mimetype": "text/x-python",
   "name": "python",
   "nbconvert_exporter": "python",
   "pygments_lexer": "ipython3",
   "version": "3.11.6"
  },
  "papermill": {
   "duration": 10.709805,
   "end_time": "2020-11-24T09:35:27.797745",
   "environment_variables": {},
   "exception": null,
   "input_path": "__notebook__.ipynb",
   "output_path": "__notebook__.ipynb",
   "parameters": {},
   "start_time": "2020-11-24T09:35:17.087940",
   "version": "2.1.0"
  }
 },
 "nbformat": 4,
 "nbformat_minor": 4
}
